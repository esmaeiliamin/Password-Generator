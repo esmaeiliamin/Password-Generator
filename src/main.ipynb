{
 "cells": [
  {
   "cell_type": "code",
   "execution_count": null,
   "id": "318ffc4e",
   "metadata": {},
   "outputs": [],
   "source": [
    "from abc import ABC, abstractmethod\n",
    "import random\n",
    "import string\n",
    "import nltk\n",
    "\n",
    "\n",
    "nltk.download('words')"
   ]
  },
  {
   "cell_type": "code",
   "execution_count": null,
   "id": "ea06268d",
   "metadata": {},
   "outputs": [],
   "source": [
    "class PasswordGenerator(ABC):\n",
    "    \"\"\"Base class for generating passwords.\"\"\"\n",
    "    @abstractmethod\n",
    "    def generate(self):\n",
    "        \"\"\"Subclasses must implement this method to generate passwords.\n",
    "        \"\"\"\n",
    "        pass\n",
    "\n",
    "\n",
    "\n",
    "class PinGenerator(PasswordGenerator):\n",
    "    \"\"\"Class to generate pin code.\"\"\"\n",
    "    def __init__(self, lenght):\n",
    "        self.lenght = lenght\n",
    "\n",
    "    def generate(self):\n",
    "        \"\"\"Generate a numeric pin code \"\"\"\n",
    "        return ''.join(random.choice(string.digits) for _ in range(self.lenght))\n",
    "\n",
    "\n",
    "\n",
    "class RandomPasswordGenerator(PasswordGenerator):\n",
    "    \"\"\"Class to generate random passwords.\"\"\"\n",
    "    def __init__(self, lenght, include_numbers=False, include_symbols=False):\n",
    "        self.lenght = lenght\n",
    "        self.characters = string.ascii_letters\n",
    "        if include_numbers:\n",
    "            self.characters += string.digits\n",
    "        if include_symbols:\n",
    "            self.characters += string.punctuation\n",
    "\n",
    "    def generate(self):\n",
    "        \"\"\"Generate a password from specified characters.\"\"\"\n",
    "        return ''.join(random.choice(self.characters) for _ in range(self.lenght))\n",
    "\n",
    "\n",
    "\n",
    "class MemorablePasswordGenerator(PasswordGenerator):\n",
    "    \"\"\"Class to generate memorable passwords.\"\"\"\n",
    "    def __init__(self, num_of_words=5, separator='-', capitalization=False, vocabulary=None):\n",
    "        if vocabulary is None:\n",
    "            vocabulary = nltk.corpus.words.words() #edit this to any vocabulary\n",
    "        self.vocabulary = vocabulary\n",
    "        self.num_of_words = num_of_words\n",
    "        self.separator = separator\n",
    "        self.capitalization = capitalization\n",
    "\n",
    "\n",
    "    def generate(self):\n",
    "        \"\"\"Generate a password from a list of vocabulary words.\n",
    "        \"\"\"\n",
    "        password = [random.choice(self.vocabulary) for _ in range(self.num_of_words)]\n",
    "        if self.capitalization:\n",
    "            password = [word.upper() for word in password]\n",
    "\n",
    "        return self.separator.join(password)\n"
   ]
  }
 ],
 "metadata": {
  "kernelspec": {
   "display_name": "py310",
   "language": "python",
   "name": "python3"
  },
  "language_info": {
   "codemirror_mode": {
    "name": "ipython",
    "version": 3
   },
   "file_extension": ".py",
   "mimetype": "text/x-python",
   "name": "python",
   "nbconvert_exporter": "python",
   "pygments_lexer": "ipython3",
   "version": "3.10.16"
  }
 },
 "nbformat": 4,
 "nbformat_minor": 5
}
